{
 "cells": [
  {
   "cell_type": "markdown",
   "metadata": {},
   "source": [
    "# MTH 9855 Homework 5"
   ]
  },
  {
   "cell_type": "markdown",
   "metadata": {},
   "source": [
    "## Junliang Zhou\n",
    "\n",
    "Tel: (347) 276-1207\n",
    "\n",
    "Email: gjimzhou@gmail.com"
   ]
  },
  {
   "cell_type": "code",
   "execution_count": 1,
   "metadata": {
    "collapsed": false,
    "scrolled": true
   },
   "outputs": [],
   "source": [
    "# Package unpackged\n",
    "import numpy as np\n",
    "import pandas as pd\n",
    "from sklearn.linear_model import LinearRegression\n",
    "from scipy.stats.stats import *\n",
    "import matplotlib.pyplot as plt\n",
    "import itertools"
   ]
  },
  {
   "cell_type": "markdown",
   "metadata": {},
   "source": [
    "### Problem 5.1"
   ]
  },
  {
   "cell_type": "code",
   "execution_count": 2,
   "metadata": {
    "collapsed": false
   },
   "outputs": [],
   "source": [
    "# Data imported\n",
    "data=pd.read_csv(\"BetaExample.txt\",sep=\"|\")\n",
    "data=data.dropna(how='any')\n",
    "data.DATE=pd.to_datetime(data.DATE)"
   ]
  },
  {
   "cell_type": "code",
   "execution_count": 3,
   "metadata": {
    "collapsed": false
   },
   "outputs": [],
   "source": [
    "# Learn and test data separated\n",
    "learnData=data.loc[data['DATE']<='2014-12-31']\n",
    "testData=data.loc[(data['DATE']>='2015-01-01') & (data['DATE']<='2015-12-31')]"
   ]
  },
  {
   "cell_type": "code",
   "execution_count": 4,
   "metadata": {
    "collapsed": false
   },
   "outputs": [
    {
     "name": "stdout",
     "output_type": "stream",
     "text": [
      "IBM 0.9067383815134795\n",
      "AAPL 1.1363004700195205\n",
      "TSLA 1.3100847134478366\n"
     ]
    }
   ],
   "source": [
    "# Beta calculated\n",
    "tickers=data['TICKER'].unique()\n",
    "regs=[]\n",
    "\n",
    "for t in tickers:\n",
    "    learnTickerData=learnData.loc[learnData['TICKER']==t]\n",
    "    reg=LinearRegression(fit_intercept=False)\n",
    "    X=np.c_[learnTickerData['RM']]\n",
    "    y=list(learnTickerData['R'])\n",
    "    reg.fit(X, y)\n",
    "    regs.append(reg)\n",
    "    \n",
    "    print(t,float(reg.coef_))"
   ]
  },
  {
   "cell_type": "code",
   "execution_count": 5,
   "metadata": {
    "collapsed": false
   },
   "outputs": [
    {
     "name": "stdout",
     "output_type": "stream",
     "text": [
      "IBM -0.430856139425\n",
      "AAPL 1.0\n",
      "TSLA -0.569143860575\n"
     ]
    }
   ],
   "source": [
    "# Holding solved\n",
    "betas=[float(r.coef_) for r in regs]\n",
    "unit=[0,1,0]\n",
    "ones=[1,1,1]\n",
    "\n",
    "M=np.array([betas,unit,ones])\n",
    "b=np.array([0,1,0])\n",
    "holdings=np.linalg.solve(M,b)\n",
    "\n",
    "for t,h in zip(tickers,holdings):\n",
    "    print(t,h)"
   ]
  },
  {
   "cell_type": "code",
   "execution_count": 6,
   "metadata": {
    "collapsed": false
   },
   "outputs": [],
   "source": [
    "# Returns and cumulative sum returns for portfolio and market calculated\n",
    "period=testData['DATE'].unique()\n",
    "returns=[]\n",
    "marketReturns=[]\n",
    "\n",
    "for p in period:\n",
    "    dayData=testData.loc[testData['DATE']==p]\n",
    "    dayReturns=[float(dayData.loc[dayData['TICKER']==t]['R']) for t in tickers]\n",
    "    returns.append(np.dot(holdings,dayReturns))\n",
    "    marketReturns.append(float(dayData.loc[dayData['TICKER']=='IBM']['RM']))\n",
    "    \n",
    "accReturns=list(itertools.accumulate(returns))\n",
    "accMarketReturns=list(itertools.accumulate(marketReturns))"
   ]
  },
  {
   "cell_type": "code",
   "execution_count": 7,
   "metadata": {
    "collapsed": false
   },
   "outputs": [
    {
     "data": {
      "image/png": "[encoded data removed]",
      "text/plain": [
       "<matplotlib.figure.Figure at 0x19c2957cf98>"
      ]
     },
     "metadata": {},
     "output_type": "display_data"
    }
   ],
   "source": [
    "# Cumulative sum returns plotted\n",
    "plt.plot(period,accReturns,period,accMarketReturns)\n",
    "plt.show()"
   ]
  },
  {
   "cell_type": "code",
   "execution_count": 8,
   "metadata": {
    "collapsed": false
   },
   "outputs": [
    {
     "data": {
      "text/plain": [
       "(0.029195322843131564, 0.64527918256584693)"
      ]
     },
     "execution_count": 8,
     "metadata": {},
     "output_type": "execute_result"
    }
   ],
   "source": [
    "# Correlation calculated\n",
    "pearsonr(returns,marketReturns)"
   ]
  },
  {
   "cell_type": "markdown",
   "metadata": {},
   "source": [
    "From the p-value we know that the correlation is insignificant."
   ]
  },
  {
   "cell_type": "markdown",
   "metadata": {
    "collapsed": true
   },
   "source": [
    "### Problem 5.2"
   ]
  },
  {
   "cell_type": "code",
   "execution_count": 9,
   "metadata": {
    "collapsed": true
   },
   "outputs": [],
   "source": [
    "# Variance functions defined\n",
    "def f(beta,sigM2):\n",
    "    return beta**2*sigM2\n",
    "\n",
    "def g(n,sigi2):\n",
    "    return 1/n*sigi2\n",
    "\n",
    "def marketFraction(n,beta,sigM2,sigi2):\n",
    "    fValue=f(beta,sigM2)\n",
    "    gValue=g(n,sigi2)\n",
    "    return fValue/(fValue+gValue)"
   ]
  },
  {
   "cell_type": "code",
   "execution_count": 10,
   "metadata": {
    "collapsed": true
   },
   "outputs": [],
   "source": [
    "# Parameters set\n",
    "ns=list(range(2,31))\n",
    "beta=0.5\n",
    "sigM2=0.2**2\n",
    "sigi2=0.03**2"
   ]
  },
  {
   "cell_type": "code",
   "execution_count": 11,
   "metadata": {
    "collapsed": false
   },
   "outputs": [
    {
     "data": {
      "image/png": "[encoded data removed]",
      "text/plain": [
       "<matplotlib.figure.Figure at 0x19c29710780>"
      ]
     },
     "metadata": {},
     "output_type": "display_data"
    }
   ],
   "source": [
    "# fraction of variance explained by the market calculated\n",
    "fractions=[marketFraction(n,beta,sigM2,sigi2) for n in ns]\n",
    "plt.plot(ns,fractions)\n",
    "plt.show()"
   ]
  },
  {
   "cell_type": "code",
   "execution_count": 12,
   "metadata": {
    "collapsed": true
   },
   "outputs": [],
   "source": [
    "# Sharpe ratio function defined\n",
    "def expectation(n,beta,muM,mui):\n",
    "    return beta*muM+mui\n",
    "\n",
    "def variance(n,beta,sigM2,sigi2):\n",
    "    fValue=f(beta,sigM2)\n",
    "    gValue=g(n,sigi2)\n",
    "    return fValue+gValue\n",
    "\n",
    "def sharpeRatio(n,beta,muM,mui,sigM2,sigi2,fee):\n",
    "    eValue=expectation(n,beta,muM,mui)\n",
    "    vValue=variance(n,beta,sigM2,sigi2)\n",
    "    return (eValue-fee)/np.sqrt(vValue)"
   ]
  },
  {
   "cell_type": "code",
   "execution_count": 13,
   "metadata": {
    "collapsed": true
   },
   "outputs": [],
   "source": [
    "# Parameters setted again\n",
    "muM=0.07\n",
    "sri=1.5\n",
    "mui=sri*np.sqrt(sigi2)\n",
    "fee=0.01"
   ]
  },
  {
   "cell_type": "code",
   "execution_count": 14,
   "metadata": {
    "collapsed": false
   },
   "outputs": [
    {
     "data": {
      "image/png": "[encoded data removed]",
      "text/plain": [
       "<matplotlib.figure.Figure at 0x19c299a01d0>"
      ]
     },
     "metadata": {},
     "output_type": "display_data"
    }
   ],
   "source": [
    "# Portfolio Sharpe ratio calculated\n",
    "srs1=[sharpeRatio(n,beta,muM,mui,sigM2,sigi2,fee) for n in ns]\n",
    "plt.plot(ns,srs1)\n",
    "plt.show()"
   ]
  },
  {
   "cell_type": "code",
   "execution_count": 15,
   "metadata": {
    "collapsed": true
   },
   "outputs": [],
   "source": [
    "# Setup modified\n",
    "sri=2\n",
    "mui=sri*np.sqrt(sigi2)"
   ]
  },
  {
   "cell_type": "code",
   "execution_count": 16,
   "metadata": {
    "collapsed": false
   },
   "outputs": [
    {
     "data": {
      "image/png": "[encoded data removed]",
      "text/plain": [
       "<matplotlib.figure.Figure at 0x19c29a77a90>"
      ]
     },
     "metadata": {},
     "output_type": "display_data"
    }
   ],
   "source": [
    "# Portfolio Sharpe ratio calculated\n",
    "srs2=[sharpeRatio(n,beta,muM,mui,sigM2,sigi2,fee) for n in ns]\n",
    "plt.plot(ns,srs1,ns,srs2)\n",
    "plt.show()"
   ]
  },
  {
   "cell_type": "code",
   "execution_count": 17,
   "metadata": {
    "collapsed": false
   },
   "outputs": [
    {
     "data": {
      "text/plain": [
       "1.4000000000000001"
      ]
     },
     "execution_count": 17,
     "metadata": {},
     "output_type": "execute_result"
    }
   ],
   "source": [
    "n=1\n",
    "beta=0\n",
    "sigi2=0.1**2\n",
    "sri=1.5\n",
    "mui=sri*np.sqrt(sigi2)\n",
    "fee=0.01\n",
    "sharpeRatio(n,beta,muM,mui,sigM2,sigi2,fee)"
   ]
  },
  {
   "cell_type": "markdown",
   "metadata": {},
   "source": [
    "The Sharpe ratio for the single fund is higher."
   ]
  }
 ],
 "metadata": {
  "anaconda-cloud": {},
  "kernelspec": {
   "display_name": "Python [conda root]",
   "language": "python",
   "name": "conda-root-py"
  },
  "language_info": {
   "codemirror_mode": {
    "name": "ipython",
    "version": 3
   },
   "file_extension": ".py",
   "mimetype": "text/x-python",
   "name": "python",
   "nbconvert_exporter": "python",
   "pygments_lexer": "ipython3",
   "version": "3.5.2"
  }
 },
 "nbformat": 4,
 "nbformat_minor": 1
}
